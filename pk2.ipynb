{
  "nbformat": 4,
  "nbformat_minor": 0,
  "metadata": {
    "colab": {
      "provenance": [],
      "authorship_tag": "ABX9TyP50u8txTCrJIs1wogf8ub5",
      "include_colab_link": true
    },
    "kernelspec": {
      "name": "python3",
      "display_name": "Python 3"
    },
    "language_info": {
      "name": "python"
    }
  },
  "cells": [
    {
      "cell_type": "markdown",
      "metadata": {
        "id": "view-in-github",
        "colab_type": "text"
      },
      "source": [
        "<a href=\"https://colab.research.google.com/github/Seandaytoy1005/MMO/blob/main/pk2.ipynb\" target=\"_parent\"><img src=\"https://colab.research.google.com/assets/colab-badge.svg\" alt=\"Open In Colab\"/></a>"
      ]
    },
    {
      "cell_type": "markdown",
      "source": [
        "# 1. Загрузка данных"
      ],
      "metadata": {
        "id": "hiurPgp_UZQ8"
      }
    },
    {
      "cell_type": "markdown",
      "source": [
        "Загрузите набор данных «20 ​​групп новостей». Набор данных «20 ​​групп новостей» представляет собой широко используемый набор данных для классификации текста, содержащий около 20 000 статей групп новостей, охватывающих 20 групп новостей с различными темами. По каждой теме около 1000 статей. Эти темы включают в себя: автомобили, электронные устройства, спорт, медицина, религия и многое другое. Текстовые данные в наборе данных были разделены на обучающий и тестовый наборы.\n",
        "\n",
        "При загрузке набора данных вы можете использовать параметры subset='train' и subset='test', чтобы выбрать обучающий набор и тестовый набор. Кроме того, вы можете использовать параметр Remove=('headers', 'footers', 'quotes') для удаления верхних, нижних колонтитулов и кавычек из текста для лучшего анализа контента."
      ],
      "metadata": {
        "id": "NkZmSQDzUfBH"
      }
    },
    {
      "cell_type": "code",
      "source": [
        "\n",
        "from sklearn.datasets import fetch_20newsgroups\n",
        "\n",
        "data_train = fetch_20newsgroups(subset='train', remove=('headers', 'footers', 'quotes'))\n",
        "data_test = fetch_20newsgroups(subset='test', remove=('headers', 'footers', 'quotes'))\n"
      ],
      "metadata": {
        "id": "_6MTYHgEUjmj"
      },
      "execution_count": 21,
      "outputs": []
    },
    {
      "cell_type": "markdown",
      "source": [
        "# 2. Предварительная обработка данных и извлечение признаков"
      ],
      "metadata": {
        "id": "ls71AcAOUpo5"
      }
    },
    {
      "cell_type": "markdown",
      "source": [
        "Сначала были импортированы необходимые библиотеки и модули, включая экстракторы текстовых объектов (CountVectorizer и TfidfVectorizer), два классификатора (случайный лес и логистическая регрессия) и индикаторы оценки (точность). Далее, путем инициализации объектов CountVectorizer и TfidfVectorizer, текстовые данные преобразуются в матрицу частот слов (CountVectorizer) и матрицу TF-IDF (TfidfVectorizer). Затем эти матрицы функций используются для извлечения функций из текстовых данных обучающего набора и тестового набора. Наконец, целевые функции (метки категорий) обучающего набора и тестового набора извлекаются для обучения и оценки модели."
      ],
      "metadata": {
        "id": "raeId5x6VQHu"
      }
    },
    {
      "cell_type": "code",
      "source": [
        "\n",
        "\n",
        "from sklearn.feature_extraction.text import CountVectorizer, TfidfVectorizer\n",
        "from sklearn.ensemble import RandomForestClassifier\n",
        "from sklearn.linear_model import LogisticRegression\n",
        "from sklearn.metrics import accuracy_score\n",
        "\n",
        "count_vectorizer = CountVectorizer()\n",
        "tfidf_vectorizer = TfidfVectorizer()\n",
        "\n",
        "X_train_count = count_vectorizer.fit_transform(data_train.data)\n",
        "X_train_tfidf = tfidf_vectorizer.fit_transform(data_train.data)\n",
        "\n",
        "X_test_count = count_vectorizer.transform(data_test.data)\n",
        "X_test_tfidf = tfidf_vectorizer.transform(data_test.data)\n",
        "\n",
        "y_train = data_train.target\n",
        "y_test = data_test.target\n"
      ],
      "metadata": {
        "id": "CKwhNJXIUDsM"
      },
      "execution_count": 22,
      "outputs": []
    },
    {
      "cell_type": "markdown",
      "source": [
        "# 3.Обучение и оценка модели."
      ],
      "metadata": {
        "id": "Id8kBDIwUyYT"
      }
    },
    {
      "cell_type": "markdown",
      "source": [
        "## случайный классификатор леса"
      ],
      "metadata": {
        "id": "6xduYsg3U1Oa"
      }
    },
    {
      "cell_type": "markdown",
      "source": [
        "Классификатор случайного леса — это алгоритм машинного обучения, основанный на деревьях решений. Он состоит из нескольких деревьев решений и делает прогнозы путем объединения этих деревьев."
      ],
      "metadata": {
        "id": "nHr-skApYe14"
      }
    },
    {
      "cell_type": "code",
      "source": [
        "\n",
        "\n",
        "\n",
        "rf_classifier = RandomForestClassifier()\n",
        "rf_classifier.fit(X_train_count, y_train)\n",
        "rf_count_acc = accuracy_score(y_test, rf_classifier.predict(X_test_count))\n",
        "\n",
        "rf_classifier_tfidf = RandomForestClassifier()\n",
        "rf_classifier_tfidf.fit(X_train_tfidf, y_train)\n",
        "rf_tfidf_acc = accuracy_score(y_test, rf_classifier_tfidf.predict(X_test_tfidf))\n"
      ],
      "metadata": {
        "id": "xaCE3qRUUPkr"
      },
      "execution_count": 23,
      "outputs": []
    },
    {
      "cell_type": "markdown",
      "source": [
        "## классификатор логистической регрессии"
      ],
      "metadata": {
        "id": "BQwPQhITU3sZ"
      }
    },
    {
      "cell_type": "markdown",
      "source": [
        "Логистическая регрессия использует логистическую функцию (также называемую сигмовидной функцией) для преобразования линейной комбинации признаков в значение вероятности, которое представляет вероятность принадлежности выборки к определенной категории."
      ],
      "metadata": {
        "id": "9qPjj0Y_YvjO"
      }
    },
    {
      "cell_type": "code",
      "source": [
        "lr_classifier = LogisticRegression()\n",
        "lr_classifier.fit(X_train_count, y_train)\n",
        "lr_count_acc = accuracy_score(y_test, lr_classifier.predict(X_test_count))\n",
        "\n",
        "lr_classifier_tfidf = LogisticRegression()\n",
        "lr_classifier_tfidf.fit(X_train_tfidf, y_train)\n",
        "lr_tfidf_acc = accuracy_score(y_test, lr_classifier_tfidf.predict(X_test_tfidf))\n"
      ],
      "metadata": {
        "colab": {
          "base_uri": "https://localhost:8080/"
        },
        "id": "c6MLZt8wUEdJ",
        "outputId": "5d8f9378-3941-455b-cc61-602732e15bac"
      },
      "execution_count": 24,
      "outputs": [
        {
          "output_type": "stream",
          "name": "stderr",
          "text": [
            "/usr/local/lib/python3.10/dist-packages/sklearn/linear_model/_logistic.py:458: ConvergenceWarning: lbfgs failed to converge (status=1):\n",
            "STOP: TOTAL NO. of ITERATIONS REACHED LIMIT.\n",
            "\n",
            "Increase the number of iterations (max_iter) or scale the data as shown in:\n",
            "    https://scikit-learn.org/stable/modules/preprocessing.html\n",
            "Please also refer to the documentation for alternative solver options:\n",
            "    https://scikit-learn.org/stable/modules/linear_model.html#logistic-regression\n",
            "  n_iter_i = _check_optimize_result(\n"
          ]
        }
      ]
    },
    {
      "cell_type": "markdown",
      "source": [
        "\n",
        "# Распечатать результаты\n"
      ],
      "metadata": {
        "id": "wMGwsbqVU9tJ"
      }
    },
    {
      "cell_type": "code",
      "source": [
        "print(\"Random Forest Classifier Accuracy (CountVectorizer):\", rf_count_acc)\n",
        "print(\"Random Forest Classifier Accuracy (TfidfVectorizer):\", rf_tfidf_acc)\n",
        "print(\"Logistic Regression Accuracy (CountVectorizer):\", lr_count_acc)\n",
        "print(\"Logistic Regression Accuracy (TfidfVectorizer):\", lr_tfidf_acc)\n"
      ],
      "metadata": {
        "colab": {
          "base_uri": "https://localhost:8080/"
        },
        "id": "2dMVUmJnU_sX",
        "outputId": "f2edb508-aab8-48e3-9b3f-7e2d6029f091"
      },
      "execution_count": 25,
      "outputs": [
        {
          "output_type": "stream",
          "name": "stdout",
          "text": [
            "Random Forest Classifier Accuracy (CountVectorizer): 0.5920074349442379\n",
            "Random Forest Classifier Accuracy (TfidfVectorizer): 0.5920074349442379\n",
            "Logistic Regression Accuracy (CountVectorizer): 0.6058151885289432\n",
            "Logistic Regression Accuracy (TfidfVectorizer): 0.6736590546999469\n"
          ]
        }
      ]
    }
  ]
}